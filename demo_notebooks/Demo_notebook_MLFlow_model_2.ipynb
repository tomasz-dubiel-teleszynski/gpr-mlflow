{
 "cells": [
  {
   "cell_type": "markdown",
   "metadata": {},
   "source": [
    "# Demo: Gaussian Process Regression\n",
    "\n",
    "Gaussian Processes are a generic supervised learning method designed to solve regression problems among other things.\n",
    "\n",
    "Gaussian Process Regression (GPR) is a nonparametric, Bayesian approach to regression.\n",
    "\n",
    "For simplicity this demo involves Gaussian Process Regression based on fixed hyper-parameters.\n",
    "\n",
    "GPR can be carried out easily by the function GaussianProcessRegressor from the sklearn library.\n",
    "\n",
    "Users interested in theoretical underpinnings behind GPR are kindly referred to:\n",
    "\n",
    "- Murphy, K. P. (2012), Machine Learning. A Probabilistic Perspective, MIT -----> see section 15.2\n",
    "- Bishop, C. M. (2006), Pattern Recognition and Machine Learning, Springer ---> see section 6.4.2\n",
    "\n",
    "Brief introduction to Gaussian processes for supervised learning is also provided below."
   ]
  },
  {
   "cell_type": "markdown",
   "metadata": {},
   "source": [
    "# Introduction to Gaussian processes for supervised learning\n",
    "\n",
    "In Bayesian non-parametrics a Gaussian process prior is used to estimate uknown function in supervised learning settting. One does not assume a specific function between $\\mathbf{y}$ and $\\mathbf{x}$ and instead performs Bayesian inference on the function. \n",
    "\n",
    "## Bayesian non-parametrics\n",
    "\n",
    "Let $\\mathscr{X}$ be a set and $\\mathscr{F}$ be a set of functions over $\\mathscr{X}$, for example smooth functions. We observe $(x_1,y_1),...,(x_t,y_t),...,(x_T,y_T)$, where $x_t \\in \\mathscr{X}$, $y_t \\in \\mathscr{R}$, $t=1,...,T$, satisfying\n",
    "\n",
    "\\\\[\n",
    "    \\begin{equation}\n",
    "    y_t = f(x_t) + \\epsilon_t\n",
    "    \\end{equation}\n",
    "\\\\]\n",
    "\n",
    "where $f \\in \\mathscr{F}$ and $\\epsilon=(\\epsilon_1,...,\\epsilon_T)$ are independent of $\\mathbf{x}=(x_1,...,x_T)$. Errors $\\mathbf{\\epsilon}$ have density $\\pi(\\mathbf{\\epsilon})$ and usually it is $N(\\mathbf{0}_T,\\sigma_{\\mathbf{\\epsilon}}^2 I_T$), $\\mathbf{0}_T$ being $T\\times 1$ vector of zeros, what further implies that\n",
    "\n",
    "\\\\[\n",
    "    \\begin{equation}\n",
    "    \\mathbf{y} = (y_1,...,y_T)|\\mathbf{f},\\mathbf{x},\\sigma_{\\mathbf{\\epsilon}}^2 \\sim N(\\mathbf{f},\\sigma_{\\mathbf{\\epsilon}}^2 \\mathbf{I}_T)\n",
    "    \\end{equation}\n",
    "\\\\]\n",
    "\n",
    "where $\\mathbf{f}=[f(x_1),...,f(x_T)]'$.\n",
    "\n",
    "In a Bayes regression we assign prior $\\pi(f)$ to $f$ and compute posterior\n",
    "\n",
    "\\\\[\n",
    "    \\begin{equation}\n",
    "    \\pi(f|\\mathbf{y}) = \\frac{\\pi(f)l(\\mathbf{\\epsilon}|f)}{\\int_{\\mathscr{F}}\\pi(f)l(\\mathbf{\\epsilon}|f)df}\n",
    "    \\end{equation}\n",
    "\\\\]\n",
    "\n",
    "where $l(\\mathbf{\\epsilon}|f)$ is the likelihood. Then $f$ can be estimated by its posterior mean.\n",
    "\n",
    "## Gaussian process theory\n",
    "\n",
    "$\\mathbf{Definition}$. Let $\\mathscr{X}$ be a set. A random function $f:\\mathscr{X}\\to\\mathscr{R}$ is called Gaussian process (GP) if for any $x_1,...,x_T\\in\\mathscr{X}$, $\\mathbf{f}=[f(x_1),...,f(x_T]'$ has a multivariate normal distribution. Gaussian process is characterized by the mean $f_0(\\cdot)$ and the covariance kernel $K(\\cdot,\\cdot)$. The latter is a positive definite function $K:\\mathscr{X}\\times\\mathscr{X}\\to\\mathscr{R}$. If $f$ is a GP with mean $f_0$ and covariance kernel $K$ then\n",
    "\n",
    "\\\\[\n",
    "    \\begin{equation}\n",
    "    \\mathbf{f}=[f(x_1),...,f(x_T]' \\sim N(\\mathbf{f}_0,\\mathbf{K})\n",
    "    \\end{equation}\n",
    "\\\\]\n",
    "\n",
    "where $\\mathbf{f}_0=[f_0(x_1),...,f_0(x_T]$ and $\\mathbf{K}$ is $T \\times T$ matrix with elements $K(s,t)$ such that $s,t=1,...,T$.\n",
    "\n",
    "There are numerous possibilities when it comes to covariance kernels and their choice depends on the application. For instance, they can be $\\textbf{linear}$\n",
    "\n",
    "\\\\[\n",
    "    \\begin{equation}\n",
    "    \\mathbf{K}(\\mathbf{x},\\mathbf{x}') = \\left\\langle \\mathbf{x},\\mathbf{x}' \\right\\rangle\n",
    "    \\end{equation}\n",
    "\\\\]\n",
    "\n",
    "or $\\textbf{squared exponential}$\n",
    "\n",
    "\\\\[\n",
    "    \\begin{equation}\n",
    "    \\mathbf{K}(\\mathbf{x},\\mathbf{x}') = e^{-\\frac{\\left\\|\\mathbf{x}-\\mathbf{x}'\\right\\|^2}{2\\sigma^2}}\n",
    "    \\end{equation}\n",
    "\\\\]\n",
    "\n",
    "among others. Kernels can also be combined. Interested user is referred to the literature cited above.\n",
    "\n",
    "## Gaussian process regression\n",
    "\n",
    "For $t=1,...,T$ assume that\n",
    "\n",
    "\\\\[\n",
    "    \\begin{equation}\n",
    "    y_t = f(x_t) + \\epsilon_t\n",
    "    \\end{equation}\n",
    "\\\\]\n",
    "\n",
    "where\n",
    "\n",
    "$$\n",
    "\\epsilon_t\\sim N(0,\\sigma_{\\epsilon}^2) \\\\\n",
    "\\pi(f) = GP(0,K) \\\\\n",
    "$$\n",
    "\n",
    "where $f$ and $(\\epsilon_1,...,\\epsilon_T)$ are independent and for simplicity we assume that $f_0=0$ what is also a usual assumption made in applications.\n",
    "\n",
    "Marginal distribution of $\\mathbf{y}$ is thus multivariate normal with means $E(y_t)=0$ and covariances $Cov(y_s,y_t)=K(x_s,x_t) + \\sigma_{\\epsilon}^2 I(s=t)$, with $s,t=1,...,T$. In matrix notation, where $\\mathbf{K}_T$ denotes the $T\\times T$ matrix containing all the $(x_s,x_t)$ pairs, we get\n",
    "\n",
    "\\\\[\n",
    "    \\begin{equation}\n",
    "    \\mathbf{y} \\sim N(\\mathbf{0}_T,\\mathbf{K}_T + \\sigma_{\\mathbf{\\epsilon}}^2 \\mathbf{I}_T)\n",
    "    \\end{equation}\n",
    "\\\\]\n",
    "\n",
    "Since for each $x_t \\in \\mathscr{X}$ and $y_t$ we have that $Cov(f(x_s),y_t)=K(x_s,x_t)$, by the multivariate normal regression lemma the joint distribution of $\\mathbf{f}$ and $\\mathbf{y}$ is\n",
    "\n",
    "\\\\[\n",
    "    \\begin{equation}\n",
    "    \\left(\n",
    "        \\begin{array}\\\\\n",
    "        \\mathbf{f} \\\\\n",
    "        \\mathbf{y}\n",
    "        \\end{array}\n",
    "    \\right) \\sim N \\left[\n",
    "        \\left(\\begin{array}\\\\\n",
    "        \\mathbf{0}_T \\\\\n",
    "        \\mathbf{0}_T\n",
    "        \\end{array}\\right),\\left(\n",
    "        \\begin{matrix}\n",
    "        \\mathbf{K}_T & \\mathbf{K}_T \\\\\n",
    "        \\mathbf{K}_T & \\mathbf{K}_T + \\sigma_{\\epsilon}^2 \\mathbf{I}_T\n",
    "        \\end{matrix}\n",
    "        \\right)\n",
    "    \\right]\n",
    "    \\end{equation}\n",
    "\\\\]\n",
    "\n",
    "where $\\mathbf{f}=[f(x_1),...,f(x_T)]'$ and $\\mathbf{0}_T$ is a $T\\times 1$ vector of zeros.\n",
    "\n",
    "Under such assumptions, the distribution of $\\mathbf{f}|\\mathbf{y}$ is a GP with mean $\\mathbf{M}_f$ and covariance kernel $\\mathbf{V}_f$ which are following\n",
    "\n",
    "$$\n",
    "\\mathbf{M}_f = \\mathbf{K}_T[\\mathbf{K}_T+\\sigma_{\\epsilon}^2 \\mathbf{I}_T]^{-1}\\mathbf{y} \\\\\n",
    "\\mathbf{V}_f = \\mathbf{K}_T-\\mathbf{K}_T[\\mathbf{K}_T+\\sigma_{\\epsilon}^2 \\mathbf{I}_T]^{-1}\\mathbf{K}_T\n",
    "$$\n",
    "\n",
    "To project $y_{T+1}$ based on $x_{T+1}$ we need to find the joint distribution of $\\mathbf{y}$ and $y_{T+1}$, given $\\mathbf{x}$ and $x_{T+1}$. To that end we note that $Cov(y_t,y_{T+1})=K(x_t,x_{T+1}$ for $t=1,...,T$ and we let $\\mathbf{k}_{T+1}=[K(x_1,x_{T+1}),...,K(x_T,x_{T+1})]'$ to arrive at\n",
    "\n",
    "\\\\[\n",
    "    \\begin{equation}\n",
    "    \\left(\n",
    "        \\begin{array}\\\\\n",
    "        y_{T+1} \\\\\n",
    "        \\mathbf{y}\n",
    "        \\end{array}\n",
    "    \\right) \\sim N \\left[\n",
    "        \\left(\\begin{array}\\\\\n",
    "        \\mathbf{0}_T \\\\\n",
    "        \\mathbf{0}_T\n",
    "        \\end{array}\\right),\\left(\n",
    "        \\begin{matrix}\n",
    "        K(x_{T+1},x_{T+1})+\\sigma_{\\epsilon}^2 & \\mathbf{k}_{T+1}' \\\\\n",
    "        \\mathbf{k}_{T+1} & \\mathbf{K}_T + \\sigma_{\\epsilon}^2 \\mathbf{I}_T\n",
    "        \\end{matrix}\n",
    "        \\right)\n",
    "    \\right]\n",
    "    \\end{equation}\n",
    "\\\\]\n",
    "\n",
    "Then $y_{T+1}|y$ is a Gaussian with mean $M_{T+1}$ and variance $V_{T+1}$ such that\n",
    "\n",
    "$$\n",
    "M_{T+1} = \\mathbf{k}_{T+1}'[\\mathbf{K}_T+\\sigma_{\\epsilon}^2 \\mathbf{I}_T]^{-1}\\mathbf{y} \\\\\n",
    "V_{T+1} = K(x_{T+1},x_{T+1})+\\sigma_{\\epsilon}^2-\\mathbf{k}_{T+1}'[\\mathbf{K}_T+\\sigma_{\\epsilon}^2 \\mathbf{I}_T]^{-1}\\mathbf{k}_{T+1}\n",
    "$$\n",
    "\n",
    "Posterior distribution of $f$ still depends on unknown vector of parameters $\\mathbf{\\theta}$ consisting of $\\sigma_{\\epsilon}$ and any hyper-parameters of $K$, for example $\\sigma$ for squared exponential kernel. Two methods can be used to estimate $\\mathbf{\\theta}$.\n",
    "\n",
    "We can maximize the marginal likelihood $\\pi(\\mathbf{y}|\\mathbf{\\theta})$ which is a multivariate normal density with mean $\\mathbf{0}_T$ and covariance matrix $\\mathbf{V}_y=\\mathbf{K}_{T}+\\sigma_{\\epsilon}^2 \\mathbf{I}_T$. Doing so is denoted empirical Bayes.\n",
    "\n",
    "We can also put a prior on the hyper-parameters and estimate them by their posterior means. Doing this is known as hierarchical Bayes."
   ]
  },
  {
   "cell_type": "markdown",
   "metadata": {},
   "source": [
    "# The model: 2\n",
    "\n",
    "In our exercise, the goal is to obtain the forward path of quarterly y-o-y growth rates of residential property prices ($RPP$) based on available forward path of quarterly y-o-y growth rates of gross domestic product ($GDP$) for the euro area (EA), under baseline and adverse scenarios. We will achieve this using nonlinear (model 2) regression. We will proceed within the Gaussian process framework using the implementation provided by the scikit-learn (sklearn) library available for Python.\n",
    "\n",
    "Methodologically, we follow the exposition outlined in the above cell and for $t=1,...,T$ assume that\n",
    "\n",
    "\\\\[\n",
    "    \\begin{equation}\n",
    "    y_t = f(x_t) + \\epsilon_t\n",
    "    \\end{equation}\n",
    "\\\\]\n",
    "\n",
    "where\n",
    "\n",
    "$$\n",
    "\\epsilon_t\\sim N(0,\\sigma_{\\epsilon}^2) \\\\\n",
    "\\pi(f) = GP(0,K_c) \\\\\n",
    "$$\n",
    "\n",
    "and $K_c$ is a combination of constant and squared exponential kernels for model 2. We literally employ a constant and $GDP$ (our $\\mathbf{x}$) to explain and later project the evolution of $RPP$ (our $\\mathbf{y}$), in a nonlinear (model 2) fashion.\n",
    "\n",
    "For simplicity, we do not estimate the unknown parameters $\\theta$ consisting of $\\sigma_{\\epsilon}$ and any hyper-parameters of $K_c$, and fix them instead assuming they result from policy considerations."
   ]
  },
  {
   "cell_type": "markdown",
   "metadata": {},
   "source": [
    "# Implementation"
   ]
  },
  {
   "cell_type": "markdown",
   "metadata": {},
   "source": [
    "### Import tools and settings"
   ]
  },
  {
   "cell_type": "code",
   "execution_count": 1,
   "metadata": {},
   "outputs": [],
   "source": [
    "# fetch modules\n",
    "\n",
    "# modules for data management\n",
    "import openpyxl\n",
    "import numpy as np\n",
    "import pandas as pd\n",
    "# modules for making charts\n",
    "import matplotlib.pylab as plt\n",
    "import seaborn as sns\n",
    "# module with GP implementation\n",
    "from sklearn import gaussian_process\n",
    "\n",
    "# add parent directory to path\n",
    "import os,sys,inspect\n",
    "from pathlib import Path\n",
    "current_dir = os.path.dirname(os.path.abspath(inspect.getfile(inspect.currentframe())))\n",
    "parent_dir = os.path.dirname(current_dir)\n",
    "sys.path.insert(0, parent_dir)\n",
    "\n",
    "# fetch model 2\n",
    "\n",
    "# model 2: nonlinear regression\n",
    "import demo_model_2 as model_2"
   ]
  },
  {
   "cell_type": "markdown",
   "metadata": {},
   "source": [
    "### MLFlow: Tracking URI and Library imports details\n",
    "Import mlflow libraries and their methods log_metric,log_param,log_artifacts\n",
    "\n",
    "Set the tracking uri of mlflow and MLFLOW_TRACKING_INSECURE_TLS to True (if set to the true MLflow does not verify the TLS connection, meaning it does not validate certificates or hostnames for https:// tracking URIs.  \n",
    "#### MLFLOW_TRACKING_INSECURE_TLS flag value true is not recommended for production environments."
   ]
  },
  {
   "cell_type": "code",
   "execution_count": 2,
   "metadata": {},
   "outputs": [],
   "source": [
    "# fetch mlflow and related modules\n",
    "from mlflow import log_metric,log_param,log_artifact\n",
    "import mlflow\n",
    "import urllib3\n",
    "import datetime\n",
    "\n",
    "# configure core variables and setup mlflow\n",
    "mlflow_server = '127.0.0.1:5000'\n",
    "mlflow_tracking_uri='http://' + mlflow_server\n",
    "mlflow.set_tracking_uri(mlflow_tracking_uri)\n",
    "urllib3.disable_warnings(urllib3.exceptions.InsecureRequestWarning)"
   ]
  },
  {
   "cell_type": "markdown",
   "metadata": {},
   "source": [
    "### MLFlow:Setting Experiment and Run\n",
    "#### Set the experiment name :\n",
    "  experiment_name = Set given experiment as active experiment. If experiment does not exist, create an experiment with provided name.\n",
    "#### Start the run by providing the following parameters:\n",
    " ##### mlflow.start_run(run_id=None, experiment_id=None, run_name=None, nested=False)\n",
    "  Parameters :\n",
    "  \n",
    "    run_id – If specified, get the run with the specified UUID and log parameters and metrics under that run. The run’s end time is unset and its status is set to running, but the run’s other attributes (source_version, source_type, etc.) are not changed.\n",
    "   \n",
    "    experiment_id – ID of the experiment under which to create the current run (applicable only when run_id is not specified).If experiment_id argument is unspecified, will look for valid experiment in the following order: activated using set_experiment, MLFLOW_EXPERIMENT_NAME environment variable, MLFLOW_EXPERIMENT_ID environment variable, or the default experiment as defined by the tracking server.\n",
    "   \n",
    "    run_name – Name of new run (stored as a mlflow.runName tag). Used only when run_id is unspecified.\n",
    "   \n",
    "    nested – Controls whether run is nested in parent run. True creates a nest run."
   ]
  },
  {
   "cell_type": "code",
   "execution_count": 3,
   "metadata": {
    "scrolled": true
   },
   "outputs": [
    {
     "name": "stderr",
     "output_type": "stream",
     "text": [
      "2023/05/27 16:28:56 WARNING mlflow.utils.git_utils: Failed to import Git (the Git executable is probably not on your PATH), so Git SHA is not available. Error: Failed to initialize: Bad git executable.\n",
      "The git executable must be specified in one of the following ways:\n",
      "    - be included in your $PATH\n",
      "    - be set via $GIT_PYTHON_GIT_EXECUTABLE\n",
      "    - explicitly set via git.refresh()\n",
      "\n",
      "All git commands will error until this is rectified.\n",
      "\n",
      "This initial warning can be silenced or aggravated in the future by setting the\n",
      "$GIT_PYTHON_REFRESH environment variable. Use one of the following values:\n",
      "    - quiet|q|silence|s|none|n|0: for no warning or exception\n",
      "    - warn|w|warning|1: for a printed warning\n",
      "    - error|e|raise|r|2: for a raised exception\n",
      "\n",
      "Example:\n",
      "    export GIT_PYTHON_REFRESH=quiet\n",
      "\n"
     ]
    },
    {
     "data": {
      "text/plain": [
       "<ActiveRun: >"
      ]
     },
     "execution_count": 3,
     "metadata": {},
     "output_type": "execute_result"
    }
   ],
   "source": [
    "experiment_name ='Demo_mlflow'\n",
    "mlflow.set_experiment(experiment_name)\n",
    "# Get current date and time and create run id\n",
    "now=datetime.datetime.now()\n",
    "myrun_id=now.strftime(\"%Y-%m-%d %H:%M:%S\")\n",
    "# myrun_name is combination of model # and run id(date and time combination)\n",
    "myrun_name=''.join(['model_2_',myrun_id])\n",
    "mlflow.start_run(run_name=myrun_name,nested=True)"
   ]
  },
  {
   "cell_type": "markdown",
   "metadata": {},
   "source": [
    "### Fetch data\n",
    "\n",
    "We illustrate GPR on a dataset comprised of residential property prices (RPP) and GDP, quarterly yoy growths."
   ]
  },
  {
   "cell_type": "code",
   "execution_count": 4,
   "metadata": {},
   "outputs": [],
   "source": [
    "# fetch growth RPP and GDP data\n",
    "\n",
    "rpp = pd.read_excel(open('../demo_data/Demo_data.xlsx','rb'),index_col=0,sheet_name='G4-RPP')\n",
    "yer = pd.read_excel(open('../demo_data/Demo_data.xlsx','rb'),index_col=0,sheet_name='G4-YER')\n",
    "\n",
    "y = rpp['G4-RPP']\n",
    "x = yer['G4-YER']\n",
    "\n",
    "X = x.values.reshape(-1,1)\n",
    "X = np.flip(X,axis=0)\n",
    "\n",
    "Y = y.values.reshape(-1,1)\n",
    "Y = np.flip(Y,axis=0)"
   ]
  },
  {
   "cell_type": "code",
   "execution_count": 5,
   "metadata": {},
   "outputs": [],
   "source": [
    "# fetch assumed baseline and adverse GDP growth\n",
    "\n",
    "X_pred_Adve = yer['Adverse YoY']\n",
    "is_X_null = pd.isna(X_pred_Adve)\n",
    "X_pred_Adve = X_pred_Adve[is_X_null==False]\n",
    "X_pred_Adve = X_pred_Adve.values.reshape(-1,1)\n",
    "\n",
    "X_pred_Base = yer['Baseline YoY']\n",
    "is_X_null = pd.isna(X_pred_Base)\n",
    "X_pred_Base = X_pred_Base[is_X_null==False]\n",
    "X_pred_Base = X_pred_Base.values.reshape(-1,1)"
   ]
  },
  {
   "cell_type": "markdown",
   "metadata": {},
   "source": [
    "### Tune parameters"
   ]
  },
  {
   "cell_type": "code",
   "execution_count": 6,
   "metadata": {},
   "outputs": [],
   "source": [
    "# create hybrid kernel for model 2 \n",
    "# from elementary kernels\n",
    "\n",
    "# model 2:\n",
    "\n",
    "# model 2 common elementary kernel: WhiteKernel \n",
    "noise_level_model_2 = 1 # USE FOR TUNING\n",
    "\n",
    "# model 2 specific elementary kernel: RBF aka squared-exponential\n",
    "length_scale_model_2 = 1 # USE FOR TUNING"
   ]
  },
  {
   "cell_type": "markdown",
   "metadata": {},
   "source": [
    "### Set up kernel"
   ]
  },
  {
   "cell_type": "code",
   "execution_count": 7,
   "metadata": {},
   "outputs": [],
   "source": [
    "# combine elementary kernels into hybrid kernel for model 2\n",
    "kernel_model_2 = model_2.nonlinear_kernel(length_scale_nlk=length_scale_model_2, \\\n",
    "                                          noise_level_nlk=noise_level_model_2)"
   ]
  },
  {
   "cell_type": "markdown",
   "metadata": {},
   "source": [
    "### MLFlow : Set Tag\n",
    "#### Set a tag under the current run. If no run is active, this method will create a new active run.\n",
    "    mlflow.set_tag(key, value)\n",
    "#### Parameters\n",
    "    key – Parameter name (string)\n",
    "    value – Parameter value (string)"
   ]
  },
  {
   "cell_type": "code",
   "execution_count": 8,
   "metadata": {},
   "outputs": [],
   "source": [
    "# set the kernel\n",
    "mlflow.set_tag('kernel_model_2',kernel_model_2)"
   ]
  },
  {
   "cell_type": "markdown",
   "metadata": {},
   "source": [
    "### MLFlow : Log Parameters\n",
    "#### Log the parameter(s) under the current run. If no run is active, this method will create a new active run.\n",
    "    mlflow.log_param(key, value)\n",
    "#### Parameters\n",
    "    key – Parameter name (string)\n",
    "    value – Parameter value (string)"
   ]
  },
  {
   "cell_type": "code",
   "execution_count": 9,
   "metadata": {},
   "outputs": [
    {
     "data": {
      "text/plain": [
       "1"
      ]
     },
     "execution_count": 9,
     "metadata": {},
     "output_type": "execute_result"
    }
   ],
   "source": [
    "mlflow.log_param(\"noise_level_model_2\",noise_level_model_2)\n",
    "mlflow.log_param(\"length_scale_model_2\",length_scale_model_2)"
   ]
  },
  {
   "cell_type": "markdown",
   "metadata": {},
   "source": [
    "### Set up model"
   ]
  },
  {
   "cell_type": "code",
   "execution_count": 10,
   "metadata": {},
   "outputs": [
    {
     "data": {
      "text/html": [
       "<style>#sk-container-id-1 {color: black;background-color: white;}#sk-container-id-1 pre{padding: 0;}#sk-container-id-1 div.sk-toggleable {background-color: white;}#sk-container-id-1 label.sk-toggleable__label {cursor: pointer;display: block;width: 100%;margin-bottom: 0;padding: 0.3em;box-sizing: border-box;text-align: center;}#sk-container-id-1 label.sk-toggleable__label-arrow:before {content: \"▸\";float: left;margin-right: 0.25em;color: #696969;}#sk-container-id-1 label.sk-toggleable__label-arrow:hover:before {color: black;}#sk-container-id-1 div.sk-estimator:hover label.sk-toggleable__label-arrow:before {color: black;}#sk-container-id-1 div.sk-toggleable__content {max-height: 0;max-width: 0;overflow: hidden;text-align: left;background-color: #f0f8ff;}#sk-container-id-1 div.sk-toggleable__content pre {margin: 0.2em;color: black;border-radius: 0.25em;background-color: #f0f8ff;}#sk-container-id-1 input.sk-toggleable__control:checked~div.sk-toggleable__content {max-height: 200px;max-width: 100%;overflow: auto;}#sk-container-id-1 input.sk-toggleable__control:checked~label.sk-toggleable__label-arrow:before {content: \"▾\";}#sk-container-id-1 div.sk-estimator input.sk-toggleable__control:checked~label.sk-toggleable__label {background-color: #d4ebff;}#sk-container-id-1 div.sk-label input.sk-toggleable__control:checked~label.sk-toggleable__label {background-color: #d4ebff;}#sk-container-id-1 input.sk-hidden--visually {border: 0;clip: rect(1px 1px 1px 1px);clip: rect(1px, 1px, 1px, 1px);height: 1px;margin: -1px;overflow: hidden;padding: 0;position: absolute;width: 1px;}#sk-container-id-1 div.sk-estimator {font-family: monospace;background-color: #f0f8ff;border: 1px dotted black;border-radius: 0.25em;box-sizing: border-box;margin-bottom: 0.5em;}#sk-container-id-1 div.sk-estimator:hover {background-color: #d4ebff;}#sk-container-id-1 div.sk-parallel-item::after {content: \"\";width: 100%;border-bottom: 1px solid gray;flex-grow: 1;}#sk-container-id-1 div.sk-label:hover label.sk-toggleable__label {background-color: #d4ebff;}#sk-container-id-1 div.sk-serial::before {content: \"\";position: absolute;border-left: 1px solid gray;box-sizing: border-box;top: 0;bottom: 0;left: 50%;z-index: 0;}#sk-container-id-1 div.sk-serial {display: flex;flex-direction: column;align-items: center;background-color: white;padding-right: 0.2em;padding-left: 0.2em;position: relative;}#sk-container-id-1 div.sk-item {position: relative;z-index: 1;}#sk-container-id-1 div.sk-parallel {display: flex;align-items: stretch;justify-content: center;background-color: white;position: relative;}#sk-container-id-1 div.sk-item::before, #sk-container-id-1 div.sk-parallel-item::before {content: \"\";position: absolute;border-left: 1px solid gray;box-sizing: border-box;top: 0;bottom: 0;left: 50%;z-index: -1;}#sk-container-id-1 div.sk-parallel-item {display: flex;flex-direction: column;z-index: 1;position: relative;background-color: white;}#sk-container-id-1 div.sk-parallel-item:first-child::after {align-self: flex-end;width: 50%;}#sk-container-id-1 div.sk-parallel-item:last-child::after {align-self: flex-start;width: 50%;}#sk-container-id-1 div.sk-parallel-item:only-child::after {width: 0;}#sk-container-id-1 div.sk-dashed-wrapped {border: 1px dashed gray;margin: 0 0.4em 0.5em 0.4em;box-sizing: border-box;padding-bottom: 0.4em;background-color: white;}#sk-container-id-1 div.sk-label label {font-family: monospace;font-weight: bold;display: inline-block;line-height: 1.2em;}#sk-container-id-1 div.sk-label-container {text-align: center;}#sk-container-id-1 div.sk-container {/* jupyter's `normalize.less` sets `[hidden] { display: none; }` but bootstrap.min.css set `[hidden] { display: none !important; }` so we also need the `!important` here to be able to override the default hidden behavior on the sphinx rendered scikit-learn.org. See: https://github.com/scikit-learn/scikit-learn/issues/21755 */display: inline-block !important;position: relative;}#sk-container-id-1 div.sk-text-repr-fallback {display: none;}</style><div id=\"sk-container-id-1\" class=\"sk-top-container\"><div class=\"sk-text-repr-fallback\"><pre>GaussianProcessRegressor(kernel=1**2 + RBF(length_scale=1) + WhiteKernel(noise_level=1),\n",
       "                         optimizer=None)</pre><b>In a Jupyter environment, please rerun this cell to show the HTML representation or trust the notebook. <br />On GitHub, the HTML representation is unable to render, please try loading this page with nbviewer.org.</b></div><div class=\"sk-container\" hidden><div class=\"sk-item\"><div class=\"sk-estimator sk-toggleable\"><input class=\"sk-toggleable__control sk-hidden--visually\" id=\"sk-estimator-id-1\" type=\"checkbox\" checked><label for=\"sk-estimator-id-1\" class=\"sk-toggleable__label sk-toggleable__label-arrow\">GaussianProcessRegressor</label><div class=\"sk-toggleable__content\"><pre>GaussianProcessRegressor(kernel=1**2 + RBF(length_scale=1) + WhiteKernel(noise_level=1),\n",
       "                         optimizer=None)</pre></div></div></div></div></div>"
      ],
      "text/plain": [
       "GaussianProcessRegressor(kernel=1**2 + RBF(length_scale=1) + WhiteKernel(noise_level=1),\n",
       "                         optimizer=None)"
      ]
     },
     "execution_count": 10,
     "metadata": {},
     "output_type": "execute_result"
    }
   ],
   "source": [
    "# set up nonlinear model 2\n",
    "\n",
    "gp_model_2 = gaussian_process.GaussianProcessRegressor(optimizer=None,kernel=kernel_model_2)\n",
    "gp_model_2.fit(X, Y)"
   ]
  },
  {
   "cell_type": "code",
   "execution_count": 11,
   "metadata": {},
   "outputs": [
    {
     "data": {
      "text/plain": [
       "1**2 + RBF(length_scale=1) + WhiteKernel(noise_level=1)"
      ]
     },
     "execution_count": 11,
     "metadata": {},
     "output_type": "execute_result"
    }
   ],
   "source": [
    "# inspect kernel in model 2\n",
    "\n",
    "gp_model_2.kernel_"
   ]
  },
  {
   "cell_type": "markdown",
   "metadata": {},
   "source": [
    "### Get projections"
   ]
  },
  {
   "cell_type": "code",
   "execution_count": 12,
   "metadata": {},
   "outputs": [],
   "source": [
    "# project RPP growth using model 2\n",
    "\n",
    "Y_pred_Base, sigma_Base = gp_model_2.predict(X_pred_Base, return_std=True)\n",
    "Y_pred_Adve, sigma_Adve = gp_model_2.predict(X_pred_Adve, return_std=True)"
   ]
  },
  {
   "cell_type": "code",
   "execution_count": 13,
   "metadata": {},
   "outputs": [],
   "source": [
    "# save projections\n",
    "\n",
    "results_path=Path(parent_dir) / 'demo_results'\n",
    "results_path.mkdir(exist_ok=True,parents=True)\n",
    "\n",
    "# save baseline\n",
    "pd.DataFrame(Y_pred_Base).to_csv(results_path /str('Baseline_model_2.csv'),index=None,header=None)\n",
    "# save adverse\n",
    "pd.DataFrame(Y_pred_Adve).to_csv(results_path /str('Adverse_model_2.csv'),index=None,header=None)"
   ]
  },
  {
   "cell_type": "markdown",
   "metadata": {},
   "source": [
    "### Visual inspection"
   ]
  },
  {
   "cell_type": "code",
   "execution_count": 14,
   "metadata": {},
   "outputs": [],
   "source": [
    "graph_path=Path(parent_dir) / 'demo_charts'\n",
    "graph_path.mkdir(exist_ok=True,parents=True)"
   ]
  },
  {
   "cell_type": "code",
   "execution_count": 15,
   "metadata": {},
   "outputs": [
    {
     "data": {
      "text/plain": [
       "Text(0.5, 1.0, 'EA quarterly yoy GDP level growth projection - input')"
      ]
     },
     "execution_count": 15,
     "metadata": {},
     "output_type": "execute_result"
    },
    {
     "data": {
      "image/png": "[encoded data removed]",
      "text/plain": [
       "<Figure size 640x480 with 1 Axes>"
      ]
     },
     "metadata": {},
     "output_type": "display_data"
    }
   ],
   "source": [
    "# refine charts automatically\n",
    "sns.set()\n",
    "\n",
    "# plot given GDP growth projections in baseline and adverse scenario\n",
    "\n",
    "plt.plot(np.concatenate((X,X_pred_Base.reshape(X_pred_Base.size,1)),axis=0),'b--',label=r'baseline')\n",
    "plt.plot(np.concatenate((X,X_pred_Adve.reshape(X_pred_Adve.size,1)),axis=0),'r--',label=r'adverse')\n",
    "plt.plot(X,'g-',label=r'historical')\n",
    "plt.legend(loc='lower left')\n",
    "plt.title('EA quarterly yoy GDP level growth projection - input')\n"
   ]
  },
  {
   "cell_type": "code",
   "execution_count": 16,
   "metadata": {},
   "outputs": [
    {
     "data": {
      "image/png": "[encoded data removed]",
      "text/plain": [
       "<Figure size 640x480 with 1 Axes>"
      ]
     },
     "metadata": {},
     "output_type": "display_data"
    }
   ],
   "source": [
    "# plot resulting RPP growth projections in baseline and adverse scenario\n",
    "\n",
    "plt.plot(np.concatenate((Y,Y_pred_Base.reshape(Y_pred_Base.size,1)),axis=0),'b-',label=r'baseline (2)')\n",
    "plt.plot(np.concatenate((Y,Y_pred_Adve.reshape(Y_pred_Adve.size,1)),axis=0),'r-',label=r'adverse (2)')\n",
    "plt.plot(Y,'k-',label=r'historical')\n",
    "plt.legend(loc='upper left')\n",
    "plt.title('EA quarterly yoy RPP index growth projection - output')\n",
    "\n",
    "# save chart \n",
    "plt.savefig(graph_path /str('Chart_model_2.png'))"
   ]
  },
  {
   "cell_type": "markdown",
   "metadata": {},
   "source": [
    "### MLFlow : Log Artifacts\n",
    "#### Log a local file or directory as an artifact of the currently active run.\n",
    "    mlflow.log_artifact(local_path, artifact_path=None)\n",
    "#### Parameters\n",
    "    local_path – Path to the file to write.\n",
    "\n",
    "    artifact_path – If provided, the directory in artifact_uri to write to."
   ]
  },
  {
   "cell_type": "code",
   "execution_count": 17,
   "metadata": {},
   "outputs": [],
   "source": [
    "mlflow.log_artifact(results_path /str('Baseline_model_2.csv'))\n",
    "mlflow.log_artifact(results_path /str('Adverse_model_2.csv'))\n",
    "mlflow.log_artifact(graph_path /str('Chart_model_2.png'))"
   ]
  },
  {
   "cell_type": "markdown",
   "metadata": {},
   "source": [
    "### Numerical evaluation"
   ]
  },
  {
   "cell_type": "code",
   "execution_count": 18,
   "metadata": {},
   "outputs": [
    {
     "data": {
      "text/plain": [
       "3.9135173854180105"
      ]
     },
     "execution_count": 18,
     "metadata": {},
     "output_type": "execute_result"
    }
   ],
   "source": [
    "# calculate root (R) mean (M) squared (S) adverse (A) deviation (D) from baseline (B)\n",
    "RMSADB_model_2 = np.sqrt(np.average(np.square((Y_pred_Adve - Y_pred_Base))))\n",
    "RMSADB_model_2"
   ]
  },
  {
   "cell_type": "markdown",
   "metadata": {},
   "source": [
    "### MLFlow : Log Metrics\n",
    "#### Log a metric under the current run..\n",
    "    mlflow.log_metric(key, value, step=None)\n",
    "#### Parameters\n",
    "    key – Metric name (string).\n",
    "\n",
    "    value – Metric value (float). Note that some special values such as +/- Infinity may be replaced by other values depending on the store. For example, sFor example, the SQLAlchemy store replaces +/- Inf with max / min float values.\n",
    "\n",
    "    step – Metric step (int). Defaults to zero if unspecified."
   ]
  },
  {
   "cell_type": "code",
   "execution_count": 19,
   "metadata": {},
   "outputs": [],
   "source": [
    "mlflow.log_metric('RMSADB_model_2',RMSADB_model_2)"
   ]
  },
  {
   "cell_type": "markdown",
   "metadata": {},
   "source": [
    "#### End an active MLflow run (if there is one)"
   ]
  },
  {
   "cell_type": "code",
   "execution_count": 20,
   "metadata": {},
   "outputs": [
    {
     "name": "stdout",
     "output_type": "stream",
     "text": [
      "**** FINISHED ****\n"
     ]
    }
   ],
   "source": [
    "mlflow.end_run(status='FINISHED')\n",
    "print('**** FINISHED ****')"
   ]
  }
 ],
 "metadata": {
  "kernelspec": {
   "display_name": "Python 3 (ipykernel)",
   "language": "python",
   "name": "python3"
  },
  "language_info": {
   "codemirror_mode": {
    "name": "ipython",
    "version": 3
   },
   "file_extension": ".py",
   "mimetype": "text/x-python",
   "name": "python",
   "nbconvert_exporter": "python",
   "pygments_lexer": "ipython3",
   "version": "3.8.8"
  }
 },
 "nbformat": 4,
 "nbformat_minor": 2
}
